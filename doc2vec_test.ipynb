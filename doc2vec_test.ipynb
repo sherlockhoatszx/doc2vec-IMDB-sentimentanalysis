{
 "cells": [
  {
   "cell_type": "code",
   "execution_count": 9,
   "metadata": {
    "collapsed": true
   },
   "outputs": [],
   "source": [
    "# -*- coding: utf-8 -*-"
   ]
  },
  {
   "cell_type": "code",
   "execution_count": 10,
   "metadata": {
    "collapsed": true
   },
   "outputs": [],
   "source": [
    "#gensim modules\n",
    "from gensim import utils\n",
    "from gensim.models.doc2vec import LabeledSentence\n",
    "from gensim.models import Doc2Vec"
   ]
  },
  {
   "cell_type": "code",
   "execution_count": 128,
   "metadata": {
    "collapsed": true
   },
   "outputs": [],
   "source": [
    "import numpy as np\n",
    "from random import shuffle \n",
    "from sklearn.linear_model import LogisticRegression"
   ]
  },
  {
   "cell_type": "code",
   "execution_count": 14,
   "metadata": {
    "collapsed": true
   },
   "outputs": [],
   "source": [
    "class LabeledLineSentence(object):\n",
    "    def __init__(self, sources):\n",
    "        self.sources = sources\n",
    "        \n",
    "        flipped = {}\n",
    "        \n",
    "        # make sure that keys are unique\n",
    "        for key, value in sources.items():\n",
    "            if value not in flipped:\n",
    "                flipped[value] = [key]\n",
    "            else:\n",
    "                raise Exception('Non-unique prefix encountered')\n",
    "    \n",
    "    def __iter__(self):\n",
    "        for source, prefix in self.sources.items():\n",
    "            with utils.smart_open(source) as fin:\n",
    "                for item_no, line in enumerate(fin):\n",
    "                    yield LabeledSentence(utils.to_unicode(line).split(), [prefix + '_%s' % item_no])\n",
    "    \n",
    "    def to_array(self):\n",
    "        self.sentences = []\n",
    "        for source, prefix in self.sources.items():\n",
    "            with utils.smart_open(source) as fin:\n",
    "                for item_no, line in enumerate(fin):\n",
    "                    self.sentences.append(LabeledSentence(utils.to_unicode(line).split(), [prefix + '_%s' % item_no]))\n",
    "        return self.sentences\n",
    "    \n",
    "    def sentences_perm(self):\n",
    "        shuffle(self.sentences)\n",
    "        return self.sentences"
   ]
  },
  {
   "cell_type": "code",
   "execution_count": 16,
   "metadata": {
    "collapsed": true
   },
   "outputs": [],
   "source": [
    "with open('D:/aclImdb_v1/aclImdb/train/pos/pos.txt','r') as infile:\n",
    "    pos_reviews = infile.readlines()"
   ]
  },
  {
   "cell_type": "code",
   "execution_count": 71,
   "metadata": {
    "collapsed": false
   },
   "outputs": [
    {
     "name": "stdout",
     "output_type": "stream",
     "text": [
      "['0_10.txt', '10000_7.txt', '10001_9.txt', '10002_8.txt', '10003_8.txt']\n"
     ]
    }
   ],
   "source": [
    "testpospath='D:/aclImdb_v1/aclImdb/test/pos'\n",
    "test_file_names = os.listdir(testpospath)\n",
    "print test_file_names[0:5]"
   ]
  },
  {
   "cell_type": "code",
   "execution_count": 72,
   "metadata": {
    "collapsed": false
   },
   "outputs": [
    {
     "data": {
      "text/plain": [
       "12500"
      ]
     },
     "execution_count": 72,
     "metadata": {},
     "output_type": "execute_result"
    }
   ],
   "source": [
    "len(test_file_names)"
   ]
  },
  {
   "cell_type": "code",
   "execution_count": 74,
   "metadata": {
    "collapsed": false
   },
   "outputs": [],
   "source": [
    "testposfile=open('D:/aclImdb_v1/aclImdb/test/pos/test_pos.txt','a')\n",
    "for test_file_name in test_file_names:\n",
    "    if not test_file_name.endswith('.txt'):\n",
    "        continue\n",
    "    test_file = os.path.join(testpospath,test_file_name)\n",
    "    with open (test_file,'r') as f:\n",
    "        lines = f.read().splitlines()\n",
    "        testposfile.writelines(lines)\n",
    "        testposfile.write('\\n')\n",
    "\n",
    "testposfile.close()"
   ]
  },
  {
   "cell_type": "code",
   "execution_count": 77,
   "metadata": {
    "collapsed": false
   },
   "outputs": [
    {
     "name": "stdout",
     "output_type": "stream",
     "text": [
      "12500\n"
     ]
    }
   ],
   "source": [
    "num_lines = sum(1 for line in open('D:/aclImdb_v1/aclImdb/test/pos/test_pos.txt'))#count the lines just write in\n",
    "print num_lines"
   ]
  },
  {
   "cell_type": "code",
   "execution_count": 80,
   "metadata": {
    "collapsed": false
   },
   "outputs": [
    {
     "name": "stdout",
     "output_type": "stream",
     "text": [
      "['0_2.txt', '10000_4.txt', '10001_1.txt', '10002_3.txt', '10003_3.txt']\n"
     ]
    }
   ],
   "source": [
    "testnegpath='D:/aclImdb_v1/aclImdb/test/neg'\n",
    "test_file_names = os.listdir(testnegpath)\n",
    "print test_file_names[0:5]"
   ]
  },
  {
   "cell_type": "code",
   "execution_count": 81,
   "metadata": {
    "collapsed": false
   },
   "outputs": [],
   "source": [
    "testnegfile=open('D:/aclImdb_v1/aclImdb/test/neg/test_neg.txt','a')\n",
    "for test_file_name in test_file_names:\n",
    "    if not test_file_name.endswith('.txt'):\n",
    "        continue\n",
    "    test_file = os.path.join(testnegpath,test_file_name)\n",
    "    with open (test_file,'r') as f:\n",
    "        lines = f.read().splitlines()\n",
    "        testnegfile.writelines(lines)\n",
    "        testnegfile.write('\\n')\n",
    "\n",
    "testnegfile.close()"
   ]
  },
  {
   "cell_type": "code",
   "execution_count": 82,
   "metadata": {
    "collapsed": false
   },
   "outputs": [
    {
     "name": "stdout",
     "output_type": "stream",
     "text": [
      "12501\n"
     ]
    }
   ],
   "source": [
    "num_lines = sum(1 for line in open('D:/aclImdb_v1/aclImdb/test/neg/test_neg.txt'))#count the lines just write in\n",
    "print num_lines"
   ]
  },
  {
   "cell_type": "code",
   "execution_count": 83,
   "metadata": {
    "collapsed": true
   },
   "outputs": [],
   "source": [
    "sources = {'D:/aclImdb_v1/aclImdb/test/neg/test_neg.txt':'TEST_NEG', 'D:/aclImdb_v1/aclImdb/test/pos/test_pos.txt':'TEST_POS', 'D:/aclImdb_v1/aclImdb/train/neg/train_neg.txt':'TRAIN_NEG', 'D:/aclImdb_v1/aclImdb/train/pos/train_pos.txt':'TRAIN_POS', 'D:/aclImdb_v1/aclImdb/train/unsup/train_unsup.txt':'TRAIN_UNS'}"
   ]
  },
  {
   "cell_type": "code",
   "execution_count": 84,
   "metadata": {
    "collapsed": true
   },
   "outputs": [],
   "source": [
    "sentences = LabeledLineSentence(sources)"
   ]
  },
  {
   "cell_type": "code",
   "execution_count": 134,
   "metadata": {
    "collapsed": false
   },
   "outputs": [
    {
     "data": {
      "text/plain": [
       "<__main__.LabeledLineSentence at 0x87217f0>"
      ]
     },
     "execution_count": 134,
     "metadata": {},
     "output_type": "execute_result"
    }
   ],
   "source": [
    "sentences"
   ]
  },
  {
   "cell_type": "code",
   "execution_count": 85,
   "metadata": {
    "collapsed": true
   },
   "outputs": [],
   "source": [
    "model = Doc2Vec(min_count=1, window=10, size=100, sample=1e-4, negative=5, workers=4)"
   ]
  },
  {
   "cell_type": "code",
   "execution_count": 86,
   "metadata": {
    "collapsed": true
   },
   "outputs": [],
   "source": [
    "model.build_vocab(sentences.to_array())"
   ]
  },
  {
   "cell_type": "code",
   "execution_count": 87,
   "metadata": {
    "collapsed": true
   },
   "outputs": [],
   "source": [
    "for epoch in range(10):\n",
    "    model.train(sentences.sentences_perm())"
   ]
  },
  {
   "cell_type": "code",
   "execution_count": 88,
   "metadata": {
    "collapsed": true
   },
   "outputs": [],
   "source": [
    "model.save('D:/aclImdb_v1/imdb.d2v')"
   ]
  },
  {
   "cell_type": "code",
   "execution_count": 90,
   "metadata": {
    "collapsed": false
   },
   "outputs": [],
   "source": [
    "model = Doc2Vec.load('D:/aclImdb_v1/imdb.d2v')"
   ]
  },
  {
   "cell_type": "code",
   "execution_count": 144,
   "metadata": {
    "collapsed": false
   },
   "outputs": [
    {
     "data": {
      "text/plain": [
       "[(u'ex-kickboxer', 0.4178465008735657),\n",
       " (u\"Horton's\", 0.4147828221321106),\n",
       " (u'Cossell.', 0.4004952311515808),\n",
       " (u'shepherds', 0.3970067501068115),\n",
       " (u'Eckhart)', 0.3943425416946411),\n",
       " (u'Y+', 0.39374929666519165),\n",
       " (u'Darvi)', 0.39355382323265076),\n",
       " (u'Whitaker),', 0.3837607204914093),\n",
       " (u'Love\"\\x97and', 0.38014885783195496),\n",
       " (u'church;', 0.378433495759964)]"
      ]
     },
     "execution_count": 144,
     "metadata": {},
     "output_type": "execute_result"
    }
   ],
   "source": [
    "model.most_similar('bad','awful')"
   ]
  },
  {
   "cell_type": "code",
   "execution_count": 115,
   "metadata": {
    "collapsed": false,
    "scrolled": true
   },
   "outputs": [
    {
     "data": {
      "text/plain": [
       "'money'"
      ]
     },
     "execution_count": 115,
     "metadata": {},
     "output_type": "execute_result"
    }
   ],
   "source": [
    "model.doesnt_match(\"actor director actress money\".split())"
   ]
  },
  {
   "cell_type": "code",
   "execution_count": 130,
   "metadata": {
    "collapsed": false,
    "scrolled": true
   },
   "outputs": [
    {
     "data": {
      "text/plain": [
       "(703379L, 100L)"
      ]
     },
     "execution_count": 130,
     "metadata": {},
     "output_type": "execute_result"
    }
   ],
   "source": [
    "np.shape(model.syn1[:])"
   ]
  },
  {
   "cell_type": "code",
   "execution_count": 131,
   "metadata": {
    "collapsed": false,
    "scrolled": true
   },
   "outputs": [
    {
     "data": {
      "text/plain": [
       "array([-0.03295228,  0.04245356, -0.12551388, -0.09444155,  0.03872843,\n",
       "        0.06632298,  0.06923104,  0.00354602, -0.06555402, -0.16283469,\n",
       "        0.10392242,  0.02682297,  0.09891751, -0.0025965 ,  0.08402909,\n",
       "        0.07368149,  0.07677175, -0.03968524, -0.05909212,  0.12077152,\n",
       "        0.00842909, -0.13830726,  0.00277739, -0.08820997, -0.01967817,\n",
       "       -0.01383139,  0.00404541, -0.01583151,  0.08651619, -0.04554591,\n",
       "       -0.05224117,  0.00765246,  0.07300655,  0.14639845, -0.01991197,\n",
       "        0.03479124, -0.074931  ,  0.07947178, -0.06496388, -0.02345342,\n",
       "        0.02506319,  0.02241754,  0.03872867, -0.05917371,  0.05777435,\n",
       "       -0.10313001,  0.08805922,  0.1074123 ,  0.06927706, -0.02230474,\n",
       "        0.0031256 ,  0.04181514, -0.07128429, -0.06932658, -0.01724239,\n",
       "       -0.00226501, -0.08209578, -0.00394776, -0.08980807,  0.01733783,\n",
       "       -0.02694049, -0.04900165,  0.07052645, -0.0089487 , -0.033897  ,\n",
       "        0.00856984, -0.06952512,  0.13287283, -0.01410092, -0.01326211,\n",
       "       -0.07581017, -0.05672001, -0.0432674 ,  0.12143802,  0.00486279,\n",
       "       -0.0993264 , -0.10732794,  0.05771575, -0.07415888, -0.10598817,\n",
       "       -0.06017736, -0.01866033,  0.01561002, -0.0202917 ,  0.06059397,\n",
       "        0.00610897,  0.00912752,  0.01002689,  0.07708912, -0.01974445,\n",
       "        0.07020696, -0.1103555 ,  0.05968114, -0.00041194, -0.06702325,\n",
       "        0.07467904, -0.01127657, -0.1492278 ,  0.0191869 , -0.00668099], dtype=float32)"
      ]
     },
     "execution_count": 131,
     "metadata": {},
     "output_type": "execute_result"
    }
   ],
   "source": [
    "model['great']"
   ]
  },
  {
   "cell_type": "code",
   "execution_count": 156,
   "metadata": {
    "collapsed": false
   },
   "outputs": [
    {
     "data": {
      "text/plain": [
       "array([ 0.34349704, -0.28114563,  0.15553074, -0.0742671 ,  0.16231376,\n",
       "       -0.0577793 , -0.32738313,  0.06603613, -0.0177818 ,  0.03237845,\n",
       "        0.08283368,  0.45181251,  0.15142146,  0.2468181 , -0.12983988,\n",
       "        0.04126877, -0.07602935,  0.02741039,  0.17937183, -0.13999611,\n",
       "        0.32161313, -0.56360668,  0.23081957, -0.19916241,  0.12782499,\n",
       "       -0.05858454, -0.42471901,  0.03952511,  0.23915942, -0.07357813,\n",
       "       -0.03383054, -0.05575309, -0.2468773 ,  0.06058374,  0.44233057,\n",
       "       -0.0094618 ,  0.15928185,  0.08374003, -0.25648499,  0.16620168,\n",
       "        0.09682708,  0.23457398,  0.14770512,  0.04763613, -0.12721123,\n",
       "        0.01681   , -0.06182304,  0.05169237,  0.44910318, -0.35420635,\n",
       "       -0.06949909, -0.50830024, -0.22384013,  0.07454668, -0.4178369 ,\n",
       "       -0.03971678,  0.31576133,  0.01509237, -0.02283465,  0.10483131,\n",
       "       -0.54380614,  0.03327699, -0.1676164 , -0.14590305, -0.2550818 ,\n",
       "       -0.00423515,  0.01254161,  0.15923743, -0.16025175, -0.21819818,\n",
       "        0.0764047 ,  0.3450458 , -0.09821571,  0.19982439, -0.17098172,\n",
       "       -0.01718634, -0.05461849,  0.10232311, -0.22245863, -0.14909916,\n",
       "        0.24302423, -0.5173592 , -0.42029798, -0.17660889, -0.33047497,\n",
       "        0.26199546,  0.23244075, -0.03348871,  0.01012593,  0.19717491,\n",
       "        0.02386508, -0.25869563, -0.13685416,  0.10178818,  0.17607945,\n",
       "        0.28922853, -0.03895339, -0.1197668 , -0.22805308,  0.00297305], dtype=float32)"
      ]
     },
     "execution_count": 156,
     "metadata": {},
     "output_type": "execute_result"
    }
   ],
   "source": [
    "model.docvecs['TRAIN_NEG_0']"
   ]
  },
  {
   "cell_type": "code",
   "execution_count": 157,
   "metadata": {
    "collapsed": false
   },
   "outputs": [],
   "source": [
    "train_arrays = numpy.zeros((25000, 100))\n",
    "train_labels = numpy.zeros(25000)\n",
    "\n",
    "for i in range(12500):\n",
    "    prefix_train_pos = 'TRAIN_POS_' + str(i)\n",
    "    prefix_train_neg = 'TRAIN_NEG_' + str(i)\n",
    "    train_arrays[i] = model.docvecs[prefix_train_pos]\n",
    "    train_arrays[12500 + i] = model.docvecs[prefix_train_neg]\n",
    "    train_labels[i] = 1\n",
    "    train_labels[12500 + i] = 0"
   ]
  },
  {
   "cell_type": "code",
   "execution_count": 158,
   "metadata": {
    "collapsed": false
   },
   "outputs": [
    {
     "name": "stdout",
     "output_type": "stream",
     "text": [
      "[[ 0.22747336 -0.29849795 -0.14208162 ..., -0.07592782 -0.07239597\n",
      "   0.34631407]\n",
      " [ 0.09214678 -0.08534613  0.61773217 ...,  0.04337816 -0.10439413\n",
      "  -0.10903627]\n",
      " [ 0.19412082 -0.20745908  0.33502981 ..., -0.33127564 -0.27579853\n",
      "   0.18635908]\n",
      " ..., \n",
      " [ 0.23705916 -0.22731981  0.1457182  ..., -0.11989334 -0.06326018\n",
      "  -0.17819016]\n",
      " [ 0.39514577 -0.65651453  0.40622211 ..., -0.06577274  0.10656547\n",
      "  -0.09263761]\n",
      " [ 0.41178915 -0.31219524  0.27829415 ..., -0.28650829 -0.37529829\n",
      "   0.15988718]]\n"
     ]
    }
   ],
   "source": [
    "print train_arrays"
   ]
  },
  {
   "cell_type": "code",
   "execution_count": 159,
   "metadata": {
    "collapsed": false
   },
   "outputs": [
    {
     "name": "stdout",
     "output_type": "stream",
     "text": [
      "[ 1.  1.  1. ...,  0.  0.  0.]\n"
     ]
    }
   ],
   "source": [
    "print train_labels"
   ]
  },
  {
   "cell_type": "code",
   "execution_count": 161,
   "metadata": {
    "collapsed": false
   },
   "outputs": [],
   "source": [
    "test_arrays = numpy.zeros((25000, 100))\n",
    "test_labels = numpy.zeros(25000)\n",
    "\n",
    "for i in range(12500):\n",
    "    prefix_test_pos = 'TEST_POS_' + str(i)\n",
    "    prefix_test_neg = 'TEST_NEG_' + str(i)\n",
    "    test_arrays[i] = model.docvecs[prefix_test_pos]\n",
    "    test_arrays[12500 + i] = model.docvecs[prefix_test_neg]\n",
    "    test_labels[i] = 1\n",
    "    test_labels[12500 + i] = 0"
   ]
  },
  {
   "cell_type": "code",
   "execution_count": 162,
   "metadata": {
    "collapsed": true
   },
   "outputs": [],
   "source": [
    "classifier = LogisticRegression()"
   ]
  },
  {
   "cell_type": "code",
   "execution_count": 163,
   "metadata": {
    "collapsed": false
   },
   "outputs": [
    {
     "data": {
      "text/plain": [
       "LogisticRegression(C=1.0, class_weight=None, dual=False, fit_intercept=True,\n",
       "          intercept_scaling=1, max_iter=100, multi_class='ovr', n_jobs=1,\n",
       "          penalty='l2', random_state=None, solver='liblinear', tol=0.0001,\n",
       "          verbose=0, warm_start=False)"
      ]
     },
     "execution_count": 163,
     "metadata": {},
     "output_type": "execute_result"
    }
   ],
   "source": [
    "classifier.fit(train_arrays, train_labels)"
   ]
  },
  {
   "cell_type": "code",
   "execution_count": 164,
   "metadata": {
    "collapsed": false
   },
   "outputs": [
    {
     "data": {
      "text/plain": [
       "0.87343999999999999"
      ]
     },
     "execution_count": 164,
     "metadata": {},
     "output_type": "execute_result"
    }
   ],
   "source": [
    "classifier.score(test_arrays, test_labels)"
   ]
  },
  {
   "cell_type": "code",
   "execution_count": null,
   "metadata": {
    "collapsed": true
   },
   "outputs": [],
   "source": []
  }
 ],
 "metadata": {
  "anaconda-cloud": {},
  "kernelspec": {
   "display_name": "Python [Root]",
   "language": "python",
   "name": "Python [Root]"
  },
  "language_info": {
   "codemirror_mode": {
    "name": "ipython",
    "version": 2
   },
   "file_extension": ".py",
   "mimetype": "text/x-python",
   "name": "python",
   "nbconvert_exporter": "python",
   "pygments_lexer": "ipython2",
   "version": "2.7.12"
  }
 },
 "nbformat": 4,
 "nbformat_minor": 0
}
